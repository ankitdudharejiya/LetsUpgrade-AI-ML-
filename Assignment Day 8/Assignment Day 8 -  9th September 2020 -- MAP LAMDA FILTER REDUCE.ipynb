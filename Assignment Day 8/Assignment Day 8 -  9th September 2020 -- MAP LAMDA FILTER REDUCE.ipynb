{
 "cells": [
  {
   "cell_type": "markdown",
   "metadata": {},
   "source": [
    "### Question 1:\n",
    "\n",
    "#### Recreate “NB 21 map, filter, lambda.ipynb” to try different variations or perform different calculations from the ones that are in the NB"
   ]
  },
  {
   "cell_type": "code",
   "execution_count": 2,
   "metadata": {},
   "outputs": [
    {
     "name": "stdout",
     "output_type": "stream",
     "text": [
      "<map object at 0x000002AC19845D30>\n",
      "<class 'map'>\n",
      "[2, 4, 6, 8, 10]\n"
     ]
    }
   ],
   "source": [
    "# map(function, iterables)\n",
    "def add(a):\n",
    "    return a + a\n",
    "# your code goes here2\n",
    "x = map(add,[1,2,3,4,5])\n",
    "print(x)\n",
    "print(type(x))\n",
    "print(list(x))\n",
    "# print(tuple(x))\n",
    "# print(set(x))"
   ]
  },
  {
   "cell_type": "code",
   "execution_count": 3,
   "metadata": {},
   "outputs": [
    {
     "name": "stdout",
     "output_type": "stream",
     "text": [
      "[2, 4, 6, 8]\n"
     ]
    }
   ],
   "source": [
    "# map(function, iterables)\n",
    "def mul(a,b):\n",
    "    return a*b\n",
    "# your code goes here3\n",
    "x = map(mul, [1,2,3,4], [2,2,2,2] )\n",
    "print(list(x))"
   ]
  },
  {
   "cell_type": "code",
   "execution_count": 4,
   "metadata": {},
   "outputs": [
    {
     "name": "stdout",
     "output_type": "stream",
     "text": [
      "[3, 4, 5, 6]\n"
     ]
    }
   ],
   "source": [
    "# map(function, iterables)\n",
    "def add(a,b):\n",
    "    return a+b\n",
    "# your code goes here3\n",
    "x = map(add, [1,2,3,4], [2,2,2,2] )\n",
    "print(list(x))"
   ]
  },
  {
   "cell_type": "code",
   "execution_count": 9,
   "metadata": {},
   "outputs": [
    {
     "name": "stdout",
     "output_type": "stream",
     "text": [
      "<map object at 0x000002AC198455B0>\n",
      "[3, 4, 4, 6, 6, 8, 8, 10]\n"
     ]
    }
   ],
   "source": [
    "l1 = [2.6743,3.63526,4.2325,5.9687967,6.3265,7.6988,8.232,9.6907]\n",
    "updated_list = map(round, l1)\n",
    "print(updated_list)\n",
    "print(list(updated_list))"
   ]
  },
  {
   "cell_type": "markdown",
   "metadata": {},
   "source": [
    "### Lambda Function "
   ]
  },
  {
   "cell_type": "code",
   "execution_count": 5,
   "metadata": {},
   "outputs": [
    {
     "data": {
      "text/plain": [
       "10"
      ]
     },
     "execution_count": 5,
     "metadata": {},
     "output_type": "execute_result"
    }
   ],
   "source": [
    "x = lambda a: a+a\n",
    "x(5)"
   ]
  },
  {
   "cell_type": "code",
   "execution_count": 6,
   "metadata": {},
   "outputs": [
    {
     "name": "stdout",
     "output_type": "stream",
     "text": [
      "30\n"
     ]
    }
   ],
   "source": [
    "x = lambda a, b : a * b\n",
    "print(x(5, 6))"
   ]
  },
  {
   "cell_type": "code",
   "execution_count": 7,
   "metadata": {},
   "outputs": [
    {
     "name": "stdout",
     "output_type": "stream",
     "text": [
      "22\n"
     ]
    }
   ],
   "source": [
    "def myfunc(n):\n",
    "  return lambda a : a * n\n",
    "\n",
    "mydoubler = myfunc(2)\n",
    "\n",
    "print(mydoubler(11))"
   ]
  },
  {
   "cell_type": "code",
   "execution_count": 10,
   "metadata": {},
   "outputs": [
    {
     "data": {
      "text/plain": [
       "'odd'"
      ]
     },
     "execution_count": 10,
     "metadata": {},
     "output_type": "execute_result"
    }
   ],
   "source": [
    "(lambda x:\n",
    "    (x % 2 and 'odd' or 'even'))(3)"
   ]
  },
  {
   "cell_type": "code",
   "execution_count": 12,
   "metadata": {},
   "outputs": [
    {
     "data": {
      "text/plain": [
       "'even'"
      ]
     },
     "execution_count": 12,
     "metadata": {},
     "output_type": "execute_result"
    }
   ],
   "source": [
    "(lambda x:\n",
    "     (x % 2 and 'odd' or 'even'))(10)"
   ]
  },
  {
   "cell_type": "markdown",
   "metadata": {},
   "source": [
    "### Filter Function"
   ]
  },
  {
   "cell_type": "code",
   "execution_count": 14,
   "metadata": {},
   "outputs": [
    {
     "name": "stdout",
     "output_type": "stream",
     "text": [
      "odd Number [1, 3, 5, 13]\n",
      "Even Number  [0, 2, 8]\n"
     ]
    }
   ],
   "source": [
    "# a list contains both even and odd numbers.  \n",
    "a = [0, 1, 2, 3, 5, 8, 13] \n",
    "  \n",
    "# result contains odd numbers of the list \n",
    "result = filter(lambda x: x % 2 != 0, a) \n",
    "print(\"odd Number\" , list(result)) \n",
    "  \n",
    "# result contains even numbers of the list \n",
    "result = filter(lambda x: x % 2 == 0, a) \n",
    "print(\"Even Number \" ,list(result)) "
   ]
  },
  {
   "cell_type": "code",
   "execution_count": 19,
   "metadata": {},
   "outputs": [
    {
     "name": "stdout",
     "output_type": "stream",
     "text": [
      "Score above 75  [95, 86, 89, 89]\n"
     ]
    }
   ],
   "source": [
    "scores = [66, 95, 68, 59, 86, 68, 89, 72, 89, 65]\n",
    "\n",
    "def student(score):\n",
    "    return score > 75\n",
    "\n",
    "above_75 = list(filter(student, scores))\n",
    "\n",
    "print(\"Score above 75 \" , above_75)"
   ]
  },
  {
   "cell_type": "code",
   "execution_count": 20,
   "metadata": {},
   "outputs": [
    {
     "name": "stdout",
     "output_type": "stream",
     "text": [
      "[2, 10, 8, 12, 16, 22, 6, 24]\n"
     ]
    }
   ],
   "source": [
    "# Program to double each item in a list using map()\n",
    "\n",
    "my_list = [1, 5, 4, 6, 8, 11, 3, 12]\n",
    "\n",
    "print (list(map(lambda x: x * 2 , my_list)))\n",
    "\n"
   ]
  },
  {
   "cell_type": "code",
   "execution_count": 21,
   "metadata": {},
   "outputs": [
    {
     "name": "stdout",
     "output_type": "stream",
     "text": [
      "The sum of the list elements is : 17\n",
      "The product of list elements is : 180\n",
      "The concatenated product is : AnkitDudharejiya\n"
     ]
    }
   ],
   "source": [
    "import functools \n",
    "import operator \n",
    "  \n",
    "\n",
    "lis = [ 1 , 3, 5, 6, 2, ] \n",
    "  \n",
    "# using reduce to compute sum of list \n",
    "# using operator functions \n",
    "print (\"The sum of the list elements is : \",end=\"\") \n",
    "print (functools.reduce(operator.add,lis)) \n",
    "  \n",
    "# using reduce to compute product \n",
    "# using operator functions \n",
    "print (\"The product of list elements is : \",end=\"\") \n",
    "print (functools.reduce(operator.mul,lis)) \n",
    "  \n",
    "# using reduce to concatenate string \n",
    "print (\"The concatenated product is : \",end=\"\") \n",
    "print (functools.reduce(operator.add,[\"Ankit\",\"Dudharejiya\"])) "
   ]
  },
  {
   "cell_type": "code",
   "execution_count": null,
   "metadata": {},
   "outputs": [],
   "source": []
  },
  {
   "cell_type": "code",
   "execution_count": null,
   "metadata": {},
   "outputs": [],
   "source": []
  },
  {
   "cell_type": "code",
   "execution_count": null,
   "metadata": {},
   "outputs": [],
   "source": []
  },
  {
   "cell_type": "code",
   "execution_count": null,
   "metadata": {},
   "outputs": [],
   "source": []
  },
  {
   "cell_type": "code",
   "execution_count": null,
   "metadata": {},
   "outputs": [],
   "source": []
  },
  {
   "cell_type": "code",
   "execution_count": null,
   "metadata": {},
   "outputs": [],
   "source": []
  }
 ],
 "metadata": {
  "kernelspec": {
   "display_name": "Python 3",
   "language": "python",
   "name": "python3"
  },
  "language_info": {
   "codemirror_mode": {
    "name": "ipython",
    "version": 3
   },
   "file_extension": ".py",
   "mimetype": "text/x-python",
   "name": "python",
   "nbconvert_exporter": "python",
   "pygments_lexer": "ipython3",
   "version": "3.8.3"
  }
 },
 "nbformat": 4,
 "nbformat_minor": 4
}
